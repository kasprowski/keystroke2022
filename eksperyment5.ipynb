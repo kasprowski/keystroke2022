{
 "cells": [
  {
   "cell_type": "code",
   "execution_count": 1,
   "metadata": {
    "id": "tqHUFj9D0ddY"
   },
   "outputs": [],
   "source": [
    "# Imports\n",
    "import os\n",
    "import numpy as np\n",
    "import pandas as pd\n",
    "from sklearn.metrics import confusion_matrix, classification_report, accuracy_score, cohen_kappa_score\n",
    "from sklearn.model_selection._split import train_test_split\n",
    "import sklearn\n",
    "from sklearn.preprocessing import MinMaxScaler, OneHotEncoder, StandardScaler\n",
    "from sklearn import preprocessing\n",
    "from tensorflow.keras.layers import Conv1D, Conv2D, LSTM, MaxPooling1D, TimeDistributed, GRU\n",
    "from tensorflow.keras.layers import Activation, Flatten, Dropout, Dense\n",
    "from tensorflow.keras.models import Sequential\n",
    "from tensorflow.keras.layers import BatchNormalization\n",
    "import tensorflow as tf\n",
    "from tqdm import tqdm\n",
    "from matplotlib import pyplot as plt\n"
   ]
  },
  {
   "cell_type": "code",
   "execution_count": 3,
   "metadata": {
    "id": "2h1LMUk_0ddc"
   },
   "outputs": [],
   "source": [
    "def prepare_sequences(sampl, window_size=100, shift=1): #prepare windows with a given size\n",
    "    data_set = np.array([])\n",
    "    labels = np.array([])\n",
    "    temp_labels = sampl[:, 0]\n",
    "    sampl = sampl[:, 1:]\n",
    "    print(sampl.shape)\n",
    "    for row_index in tqdm(range(0, sampl.shape[0] - window_size, shift)):\n",
    "        if(row_index == 0):\n",
    "            data_set = np.array([sampl[row_index : window_size]])\n",
    "            labels = np.append(labels, temp_labels[row_index])\n",
    "        else:\n",
    "            if(temp_labels[row_index] == temp_labels[row_index + window_size]):\n",
    "                window = sampl[row_index : row_index + window_size]\n",
    "                data_set = np.append(data_set, [window], axis = 0)\n",
    "                labels = np.append(labels, temp_labels[row_index])\n",
    "    return data_set, labels\n",
    "\n",
    "def load_data(file, nrows = None):\n",
    "    path = \"{}/{}\".format(\"new_data_different_texts50\", file)\n",
    "    data = pd.read_csv(path, sep=\",\", header = None, nrows = nrows) \n",
    "#     return np.array(data)\n",
    "    return pd.DataFrame(data)"
   ]
  },
  {
   "cell_type": "code",
   "execution_count": 4,
   "metadata": {},
   "outputs": [
    {
     "name": "stderr",
     "output_type": "stream",
     "text": [
      "100%|█████████████████████████████████████████████████████████████████████████████████| 55/55 [00:00<00:00, 320.39it/s]\n"
     ]
    }
   ],
   "source": [
    "files = os.listdir(\"{}\".format(\"new_data_different_texts50\"))\n",
    "frames = []\n",
    "number_of_rows = 2000\n",
    "\n",
    "for file in tqdm(files): \n",
    "    data = load_data(file, number_of_rows)\n",
    "    frames.append(data)\n",
    "    \n",
    "data = pd.concat(frames)\n",
    "data = np.array(data)\n",
    "data = data[:, :-1]"
   ]
  },
  {
   "cell_type": "code",
   "execution_count": 5,
   "metadata": {
    "colab": {
     "base_uri": "https://localhost:8080/"
    },
    "id": "31uU-J0b0dde",
    "outputId": "6af9f5b9-3873-4c64-ee99-45ace3dfae5f"
   },
   "outputs": [
    {
     "name": "stdout",
     "output_type": "stream",
     "text": [
      "[[1 ' LMenu' ' Tab' ... 187 312 125]\n",
      " [1 ' Tab' ' LMenu' ... 172 1139 967]\n",
      " [1 ' LMenu' ' Tab' ... 124 218 94]\n",
      " ...\n",
      " [54 ' E' ' W' ... 175 280 105]\n",
      " [54 ' W' ' S' ... 102 407 305]\n",
      " [54 ' S' ' Return' ... 70 285 215]]\n",
      "[[1 'lmenu' 'tab' ... 187 312 125]\n",
      " [1 'tab' 'lmenu' ... 172 1139 967]\n",
      " [1 'lmenu' 'tab' ... 124 218 94]\n",
      " ...\n",
      " [54 'e' 'w' ... 175 280 105]\n",
      " [54 'w' 's' ... 102 407 305]\n",
      " [54 's' 'return' ... 70 285 215]]\n"
     ]
    }
   ],
   "source": [
    "print(data)\n",
    "keys = data[:, 1:3]\n",
    "for row in range(keys.shape[0]):\n",
    "    for column in range(keys.shape[1]):\n",
    "        data[row, column + 1] = data[row, column + 1].lower().replace(\" \", \"\")\n",
    "        \n",
    "print(data)"
   ]
  },
  {
   "cell_type": "code",
   "execution_count": 6,
   "metadata": {
    "id": "wb3NqNcIYmGC"
   },
   "outputs": [],
   "source": [
    "enc = sklearn.preprocessing.OneHotEncoder(categories='auto')\n",
    "enc.fit(np.concatenate((data[:,1], data[:,2]), axis=0).reshape(-1, 1))\n",
    "\n",
    "first_column = enc.transform(data[:,1].reshape(-1, 1)).toarray()\n",
    "second_column = enc.transform(data[:,2].reshape(-1, 1)).toarray()\n"
   ]
  },
  {
   "cell_type": "code",
   "execution_count": 7,
   "metadata": {
    "colab": {
     "base_uri": "https://localhost:8080/"
    },
    "id": "w6wndSNCasfU",
    "outputId": "b92dffeb-f186-4096-ec62-b32bd2199f6d"
   },
   "outputs": [],
   "source": [
    "# letters encoding - order: A1A2 B1B2 etc.\n",
    "encoded_letters = [[]]\n",
    "\n",
    "for i in range(0, first_column.shape[1]):\n",
    "    if(i == 0):\n",
    "      encoded_letters = np.column_stack((first_column[:, i], second_column[:, i]))\n",
    "    else:\n",
    "      encoded_letters = np.column_stack((encoded_letters, first_column[:, i], second_column[:, i]))\n"
   ]
  },
  {
   "cell_type": "code",
   "execution_count": 68,
   "metadata": {},
   "outputs": [
    {
     "data": {
      "text/plain": [
       "array([0., 0., 0., 0., 0., 0., 0., 0., 0., 0., 0., 0., 0., 0., 0., 0., 0.,\n",
       "       0., 0., 0., 0., 0., 0., 0., 0., 0., 0., 0., 0., 0., 0., 0., 0., 0.,\n",
       "       0., 0., 0., 0., 0., 0., 0., 0., 0., 0., 0., 0., 0., 0., 0., 0., 0.,\n",
       "       0., 0., 0., 0., 0., 0., 0., 0., 0., 0., 0., 0., 0., 0., 0., 0., 0.,\n",
       "       1., 0., 0., 0., 0., 0., 0., 0., 0., 0., 0., 0., 0., 0., 0., 0., 0.,\n",
       "       0., 0., 0., 0., 0., 0., 0., 0., 0., 0., 0., 0., 0., 0., 0., 0., 0.,\n",
       "       0., 0., 0., 0., 0., 0., 0., 0., 0., 0., 0., 0., 0., 0., 0., 0., 0.,\n",
       "       0., 0., 0., 0., 1., 0., 0., 0., 0., 0., 0., 0., 0., 0., 0., 0., 0.,\n",
       "       0., 0.])"
      ]
     },
     "execution_count": 68,
     "metadata": {},
     "output_type": "execute_result"
    }
   ],
   "source": [
    "encoded_letters[0]"
   ]
  },
  {
   "cell_type": "code",
   "execution_count": 69,
   "metadata": {
    "id": "U7G4kj6yhPy1"
   },
   "outputs": [],
   "source": [
    "# normalization - z score\n",
    "std_scaler = StandardScaler()\n",
    "encoded_letters_scaled = std_scaler.fit_transform(encoded_letters) \n",
    "time_values_scaled = std_scaler.fit_transform(data[:, 3:])"
   ]
  },
  {
   "cell_type": "code",
   "execution_count": 9,
   "metadata": {
    "id": "9lm7SRuKhO9X"
   },
   "outputs": [],
   "source": [
    "prepared_data = np.column_stack((data[:, 0], encoded_letters_scaled, time_values_scaled))"
   ]
  },
  {
   "cell_type": "code",
   "execution_count": 10,
   "metadata": {
    "id": "tyohebOh0ddj"
   },
   "outputs": [],
   "source": [
    "def prepare_data(data, window_size, random_state = 1):\n",
    "    data, labels = prepare_sequences(data, window_size = window_size, shift = int(window_size*0.4))\n",
    "    samples = data\n",
    "    samples = np.asarray(samples).astype('float32')\n",
    "    labels = np.asarray(labels).astype('float32')\n",
    "    (trainSamples, testSamples, trainLabels, testLabels) = sklearn.model_selection.train_test_split(samples, labels, test_size=0.25, random_state=random_state)\n",
    "\n",
    "    #one hot encoding\n",
    "    enc = sklearn.preprocessing.OneHotEncoder(categories='auto')\n",
    "    enc.fit(np.concatenate((trainLabels, testLabels), axis=0).reshape(-1, 1))\n",
    "    print(trainLabels)\n",
    "    trainLabels = enc.transform(trainLabels.reshape(-1, 1)).toarray()\n",
    "    testLabels = enc.transform(testLabels.reshape(-1, 1)).toarray()\n",
    "    print(trainLabels)\n",
    "    \n",
    "    return (trainSamples, testSamples, trainLabels, testLabels, samples, enc)"
   ]
  },
  {
   "cell_type": "code",
   "execution_count": 11,
   "metadata": {
    "id": "V46jObn-RYhv"
   },
   "outputs": [],
   "source": [
    "def print_history_params(history):\n",
    "    loss = history.history['loss']\n",
    "    val_loss = history.history['val_loss']\n",
    "    epochs = range(1, len(loss) + 1)\n",
    "    plt.plot(epochs, loss, 'y', label='Training loss')\n",
    "    plt.plot(epochs, val_loss, 'r', label='Validation loss')\n",
    "    plt.title('Training and validation loss')\n",
    "    plt.xlabel('Epochs')\n",
    "    plt.ylabel('Loss')\n",
    "    plt.legend()\n",
    "    plt.show()\n",
    "\n",
    "    acc = history.history['accuracy']\n",
    "    val_acc = history.history['val_accuracy']\n",
    "    plt.plot(epochs, acc, 'y', label='Training acc')\n",
    "    plt.plot(epochs, val_acc, 'r', label='Validation acc')\n",
    "    plt.title('Training and validation accuracy')\n",
    "    plt.xlabel('Epochs')\n",
    "    plt.ylabel('Accuracy')\n",
    "    plt.legend()\n",
    "    plt.show()"
   ]
  },
  {
   "cell_type": "code",
   "execution_count": 12,
   "metadata": {
    "id": "TrDxa2i70ddj"
   },
   "outputs": [],
   "source": [
    "def build_model(conv_filters, kernel_size, gru_neurons, dropout):    \n",
    "    n_classes = 54\n",
    "    \n",
    "    inputShape = (samples.shape[1],samples.shape[2])\n",
    "    print('inputShape:',inputShape)\n",
    "    model = Sequential()\n",
    "    \n",
    "    model.add(Conv1D(filters=conv_filters, kernel_size=kernel_size, activation='relu', input_shape=inputShape))\n",
    "    model.add(Conv1D(filters=conv_filters, kernel_size=kernel_size, activation='relu'))    \n",
    "    model.add(MaxPooling1D(pool_size=2))\n",
    "    model.add(Dropout(dropout))\n",
    "    \n",
    "    model.add(GRU(gru_neurons, return_sequences=True))\n",
    "    model.add(GRU(gru_neurons))\n",
    "    model.add(Dropout(dropout))\n",
    "    model.add(Dense(gru_neurons, activation='relu'))\n",
    "    model.add(Dense(n_classes, activation='softmax'))\n",
    "    model.summary()\n",
    "    return model"
   ]
  },
  {
   "cell_type": "code",
   "execution_count": 13,
   "metadata": {},
   "outputs": [],
   "source": [
    "def train_model(model, optimizer):\n",
    "    model.compile(loss='categorical_crossentropy', \n",
    "                  optimizer= optimizer,\n",
    "                  metrics=['accuracy'])\n",
    "    \n",
    "    EPOCHS=100\n",
    "    BATCH=64\n",
    "    \n",
    "    my_callbacks = [\n",
    "    tf.keras.callbacks.EarlyStopping(monitor='val_accuracy', patience=15),\n",
    "    ]\n",
    "    \n",
    "    history = model.fit(trainSamples, trainLabels, batch_size=BATCH, epochs=EPOCHS\n",
    "            ,validation_data=(testSamples,testLabels)\n",
    "            ,callbacks=my_callbacks)\n",
    "    print_history_params(history);\n"
   ]
  },
  {
   "cell_type": "code",
   "execution_count": 14,
   "metadata": {},
   "outputs": [],
   "source": [
    "def get_metrics(model):\n",
    "    testResults = model.predict(testSamples)\n",
    "    \n",
    "    matrix = confusion_matrix(testLabels.argmax(axis=1), testResults.argmax(axis=1))\n",
    "    report = classification_report(testLabels.argmax(axis=1), testResults.argmax(axis=1))\n",
    "    accuracy = accuracy_score(testLabels.argmax(axis=1), testResults.argmax(axis=1))\n",
    "    cohen_kappa = cohen_kappa_score(testLabels.argmax(axis=1), testResults.argmax(axis=1))\n",
    "    return (matrix, report, accuracy, cohen_kappa)\n",
    "\n",
    "def print_metrics(matrix, report, accuracy, cohen_kappa):\n",
    "    print(matrix)\n",
    "    print(report)\n",
    "    print(\"Accuracy: {:.2f}\".format(accuracy))\n",
    "    print(\"Cohen's Kappa: {:.2f}\".format(cohen_kappa))"
   ]
  },
  {
   "cell_type": "code",
   "execution_count": 15,
   "metadata": {},
   "outputs": [],
   "source": [
    "from contextlib import redirect_stdout\n",
    "\n",
    "def save_model(model, test):          \n",
    "    directory = \"{}/{}\".format(\"results\", f\"free_input_{test}\")\n",
    "    if not os.path.exists(directory):\n",
    "        os.makedirs(directory)\n",
    "    os.chdir(directory)\n",
    "    \n",
    "    with open(f\"{test}\",'a') as f:\n",
    "        with redirect_stdout(f):\n",
    "            model.summary()\n",
    "        \n",
    "    os.chdir(\"../..\")"
   ]
  },
  {
   "cell_type": "code",
   "execution_count": 16,
   "metadata": {},
   "outputs": [],
   "source": [
    "def save_results(test, parameters, matrix, report, accuracy, cohen_kappa):\n",
    "    confusion_matrix = np.array2string(matrix)\n",
    "        \n",
    "    directory = \"{}/{}\".format(\"results\", f\"free_input_{test}\")\n",
    "    if not os.path.exists(directory):\n",
    "        os.makedirs(directory)\n",
    "    os.chdir(directory)\n",
    "    f=open(f\"{test}\",'a')\n",
    "    f.write('\\nParameters\\n\\n{}\\n\\nConfusion Matrix\\n\\n{}\\n\\nClassification Report\\n\\n{}\\n\\nAccuracy: {}\\nCohen Kappa: {}\\n'\n",
    "            .format(parameters, confusion_matrix, report, accuracy, cohen_kappa ))\n",
    "    f.close()\n",
    "    os.chdir(\"../..\")\n"
   ]
  },
  {
   "cell_type": "code",
   "execution_count": 17,
   "metadata": {},
   "outputs": [],
   "source": [
    "def prepare_parameters_to_save(window_size, cnn_filters, rnn_neurons, kernel, dropout):\n",
    "    return 'Window size: {}\\nCnn filters: {}\\nRnn neurons: {}\\nKernel size: {}\\nDropout: {}\\n'.format(window_size,cnn_filters, rnn_neurons, kernel, dropout)"
   ]
  },
  {
   "cell_type": "code",
   "execution_count": 18,
   "metadata": {},
   "outputs": [],
   "source": [
    "def manage_results(model, cnn_filters, rnn_neurons):\n",
    "    (matrix, report, accuracy, cohen_kappa) = get_metrics(model)\n",
    "    print_metrics(matrix, report, accuracy, cohen_kappa)\n",
    "    save_model(model, test)\n",
    "    parameters = prepare_parameters_to_save(window_size, cnn_filters, rnn_neurons, kernel, dropout)\n",
    "    save_results(test, parameters, matrix, report, accuracy, cohen_kappa)\n",
    "    return matrix, accuracy"
   ]
  },
  {
   "cell_type": "code",
   "execution_count": 53,
   "metadata": {},
   "outputs": [
    {
     "name": "stderr",
     "output_type": "stream",
     "text": [
      "  1%|▋                                                                              | 55/5902 [00:00<00:10, 539.51it/s]"
     ]
    },
    {
     "name": "stdout",
     "output_type": "stream",
     "text": [
      "(94466, 142)\n"
     ]
    },
    {
     "name": "stderr",
     "output_type": "stream",
     "text": [
      "100%|██████████████████████████████████████████████████████████████████████████████| 5902/5902 [18:57<00:00,  5.19it/s]\n"
     ]
    },
    {
     "name": "stdout",
     "output_type": "stream",
     "text": [
      "[15. 47. 41. ... 36.  2. 48.]\n",
      "[[0. 0. 0. ... 0. 0. 0.]\n",
      " [0. 0. 0. ... 0. 0. 0.]\n",
      " [0. 0. 0. ... 0. 0. 0.]\n",
      " ...\n",
      " [0. 0. 0. ... 0. 0. 0.]\n",
      " [0. 1. 0. ... 0. 0. 0.]\n",
      " [0. 0. 0. ... 0. 0. 0.]]\n",
      "inputShape: (40, 142)\n",
      "Model: \"sequential_2\"\n",
      "_________________________________________________________________\n",
      "Layer (type)                 Output Shape              Param #   \n",
      "=================================================================\n",
      "conv1d_4 (Conv1D)            (None, 39, 128)           36480     \n",
      "_________________________________________________________________\n",
      "conv1d_5 (Conv1D)            (None, 38, 128)           32896     \n",
      "_________________________________________________________________\n",
      "max_pooling1d_2 (MaxPooling1 (None, 19, 128)           0         \n",
      "_________________________________________________________________\n",
      "dropout_4 (Dropout)          (None, 19, 128)           0         \n",
      "_________________________________________________________________\n",
      "gru_4 (GRU)                  (None, 19, 128)           99072     \n",
      "_________________________________________________________________\n",
      "gru_5 (GRU)                  (None, 128)               99072     \n",
      "_________________________________________________________________\n",
      "dropout_5 (Dropout)          (None, 128)               0         \n",
      "_________________________________________________________________\n",
      "dense_4 (Dense)              (None, 128)               16512     \n",
      "_________________________________________________________________\n",
      "dense_5 (Dense)              (None, 54)                6966      \n",
      "=================================================================\n",
      "Total params: 290,998\n",
      "Trainable params: 290,998\n",
      "Non-trainable params: 0\n",
      "_________________________________________________________________\n",
      "Epoch 1/100\n",
      "68/68 [==============================] - 21s 136ms/step - loss: 4.0040 - accuracy: 0.0177 - val_loss: 3.9678 - val_accuracy: 0.0396\n",
      "Epoch 2/100\n",
      "68/68 [==============================] - 7s 100ms/step - loss: 3.9574 - accuracy: 0.0450 - val_loss: 3.9076 - val_accuracy: 0.0472\n",
      "Epoch 3/100\n",
      "68/68 [==============================] - 7s 100ms/step - loss: 3.8700 - accuracy: 0.0556 - val_loss: 3.7798 - val_accuracy: 0.0562\n",
      "Epoch 4/100\n",
      "68/68 [==============================] - 7s 104ms/step - loss: 3.7240 - accuracy: 0.0577 - val_loss: 3.6300 - val_accuracy: 0.0701\n",
      "Epoch 5/100\n",
      "68/68 [==============================] - 7s 102ms/step - loss: 3.5719 - accuracy: 0.0931 - val_loss: 3.6204 - val_accuracy: 0.0701\n",
      "Epoch 6/100\n",
      "68/68 [==============================] - 7s 102ms/step - loss: 3.5081 - accuracy: 0.0887 - val_loss: 3.5286 - val_accuracy: 0.0819\n",
      "Epoch 7/100\n",
      "68/68 [==============================] - 6s 88ms/step - loss: 3.4057 - accuracy: 0.1039 - val_loss: 3.4653 - val_accuracy: 0.0978\n",
      "Epoch 8/100\n",
      "68/68 [==============================] - 7s 99ms/step - loss: 3.3886 - accuracy: 0.1039 - val_loss: 3.4136 - val_accuracy: 0.1083\n",
      "Epoch 9/100\n",
      "68/68 [==============================] - 7s 98ms/step - loss: 3.3049 - accuracy: 0.1344 - val_loss: 3.3364 - val_accuracy: 0.1284\n",
      "Epoch 10/100\n",
      "68/68 [==============================] - 7s 103ms/step - loss: 3.2054 - accuracy: 0.1458 - val_loss: 3.3182 - val_accuracy: 0.1166\n",
      "Epoch 11/100\n",
      "68/68 [==============================] - 7s 100ms/step - loss: 3.1666 - accuracy: 0.1532 - val_loss: 3.3196 - val_accuracy: 0.1305\n",
      "Epoch 12/100\n",
      "68/68 [==============================] - 7s 99ms/step - loss: 3.0880 - accuracy: 0.1698 - val_loss: 3.2508 - val_accuracy: 0.1332\n",
      "Epoch 13/100\n",
      "68/68 [==============================] - 8s 113ms/step - loss: 2.9852 - accuracy: 0.1898 - val_loss: 3.1916 - val_accuracy: 0.1492\n",
      "Epoch 14/100\n",
      "68/68 [==============================] - 7s 100ms/step - loss: 2.9532 - accuracy: 0.1999 - val_loss: 3.1679 - val_accuracy: 0.1631\n",
      "Epoch 15/100\n",
      "68/68 [==============================] - 7s 99ms/step - loss: 2.8418 - accuracy: 0.2193 - val_loss: 3.1155 - val_accuracy: 0.1790\n",
      "Epoch 16/100\n",
      "68/68 [==============================] - 7s 100ms/step - loss: 2.7248 - accuracy: 0.2524 - val_loss: 2.9282 - val_accuracy: 0.2019\n",
      "Epoch 17/100\n",
      "68/68 [==============================] - 7s 106ms/step - loss: 2.5416 - accuracy: 0.2793 - val_loss: 2.7809 - val_accuracy: 0.2283\n",
      "Epoch 18/100\n",
      "68/68 [==============================] - 7s 102ms/step - loss: 2.4497 - accuracy: 0.2972 - val_loss: 2.6183 - val_accuracy: 0.2512\n",
      "Epoch 19/100\n",
      "68/68 [==============================] - 7s 99ms/step - loss: 2.2846 - accuracy: 0.3311 - val_loss: 2.5795 - val_accuracy: 0.2658\n",
      "Epoch 20/100\n",
      "68/68 [==============================] - 7s 99ms/step - loss: 2.1493 - accuracy: 0.3709 - val_loss: 2.5828 - val_accuracy: 0.2783\n",
      "Epoch 21/100\n",
      "68/68 [==============================] - 6s 83ms/step - loss: 2.1646 - accuracy: 0.3650 - val_loss: 2.3632 - val_accuracy: 0.3005\n",
      "Epoch 22/100\n",
      "68/68 [==============================] - 4s 58ms/step - loss: 1.9611 - accuracy: 0.4125 - val_loss: 2.3195 - val_accuracy: 0.3269\n",
      "Epoch 23/100\n",
      "68/68 [==============================] - 3s 51ms/step - loss: 1.8977 - accuracy: 0.4287 - val_loss: 2.2791 - val_accuracy: 0.3248\n",
      "Epoch 24/100\n",
      "68/68 [==============================] - 4s 52ms/step - loss: 1.7702 - accuracy: 0.4646 - val_loss: 2.2538 - val_accuracy: 0.3407\n",
      "Epoch 25/100\n",
      "68/68 [==============================] - 4s 52ms/step - loss: 1.7754 - accuracy: 0.4534 - val_loss: 2.1642 - val_accuracy: 0.3643\n",
      "Epoch 26/100\n",
      "68/68 [==============================] - 3s 51ms/step - loss: 1.6260 - accuracy: 0.5019 - val_loss: 2.1241 - val_accuracy: 0.3872\n",
      "Epoch 27/100\n",
      "68/68 [==============================] - 3s 51ms/step - loss: 1.6783 - accuracy: 0.4775 - val_loss: 2.1008 - val_accuracy: 0.3831\n",
      "Epoch 28/100\n",
      "68/68 [==============================] - 3s 49ms/step - loss: 1.5917 - accuracy: 0.5067 - val_loss: 2.0193 - val_accuracy: 0.3983\n",
      "Epoch 29/100\n",
      "68/68 [==============================] - 3s 49ms/step - loss: 1.5077 - accuracy: 0.5350 - val_loss: 1.9926 - val_accuracy: 0.4115\n",
      "Epoch 30/100\n",
      "68/68 [==============================] - 3s 51ms/step - loss: 1.5059 - accuracy: 0.5326 - val_loss: 1.8935 - val_accuracy: 0.4414\n",
      "Epoch 31/100\n",
      "68/68 [==============================] - 3s 51ms/step - loss: 1.4297 - accuracy: 0.5440 - val_loss: 1.9766 - val_accuracy: 0.4323\n",
      "Epoch 32/100\n",
      "68/68 [==============================] - 3s 50ms/step - loss: 1.4023 - accuracy: 0.5769 - val_loss: 1.9074 - val_accuracy: 0.4427\n",
      "Epoch 33/100\n",
      "68/68 [==============================] - 3s 51ms/step - loss: 1.3907 - accuracy: 0.5710 - val_loss: 1.8962 - val_accuracy: 0.4455\n",
      "Epoch 34/100\n",
      "68/68 [==============================] - 4s 52ms/step - loss: 1.2605 - accuracy: 0.5995 - val_loss: 1.8012 - val_accuracy: 0.4733\n",
      "Epoch 35/100\n",
      "68/68 [==============================] - 3s 50ms/step - loss: 1.2109 - accuracy: 0.6140 - val_loss: 1.8632 - val_accuracy: 0.4539\n",
      "Epoch 36/100\n",
      "68/68 [==============================] - 3s 49ms/step - loss: 1.1951 - accuracy: 0.6106 - val_loss: 1.8893 - val_accuracy: 0.4629\n",
      "Epoch 37/100\n",
      "68/68 [==============================] - 3s 51ms/step - loss: 1.2099 - accuracy: 0.6067 - val_loss: 1.7888 - val_accuracy: 0.4913\n",
      "Epoch 38/100\n",
      "68/68 [==============================] - 3s 51ms/step - loss: 1.1605 - accuracy: 0.6270 - val_loss: 1.7795 - val_accuracy: 0.4809\n",
      "Epoch 39/100\n",
      "68/68 [==============================] - 4s 53ms/step - loss: 1.1066 - accuracy: 0.6364 - val_loss: 1.6998 - val_accuracy: 0.5135\n",
      "Epoch 40/100\n",
      "68/68 [==============================] - 4s 52ms/step - loss: 1.1233 - accuracy: 0.6393 - val_loss: 1.7059 - val_accuracy: 0.5087\n",
      "Epoch 41/100\n",
      "68/68 [==============================] - 3s 49ms/step - loss: 1.1132 - accuracy: 0.6458 - val_loss: 1.6142 - val_accuracy: 0.5253\n",
      "Epoch 42/100\n",
      "68/68 [==============================] - 3s 50ms/step - loss: 1.0142 - accuracy: 0.6688 - val_loss: 1.6205 - val_accuracy: 0.5350\n",
      "Epoch 43/100\n",
      "68/68 [==============================] - 3s 51ms/step - loss: 0.9875 - accuracy: 0.6777 - val_loss: 1.6820 - val_accuracy: 0.5205\n",
      "Epoch 44/100\n",
      "68/68 [==============================] - 4s 53ms/step - loss: 0.9979 - accuracy: 0.6797 - val_loss: 1.6458 - val_accuracy: 0.5281\n",
      "Epoch 45/100\n",
      "68/68 [==============================] - 3s 49ms/step - loss: 0.9437 - accuracy: 0.6988 - val_loss: 1.5884 - val_accuracy: 0.5482\n",
      "Epoch 46/100\n",
      "68/68 [==============================] - 3s 49ms/step - loss: 0.8920 - accuracy: 0.7158 - val_loss: 1.6602 - val_accuracy: 0.5302\n",
      "Epoch 47/100\n",
      "68/68 [==============================] - 3s 49ms/step - loss: 0.8989 - accuracy: 0.7139 - val_loss: 1.6856 - val_accuracy: 0.5288\n",
      "Epoch 48/100\n",
      "68/68 [==============================] - 3s 49ms/step - loss: 0.8606 - accuracy: 0.7200 - val_loss: 1.6194 - val_accuracy: 0.5413\n",
      "Epoch 49/100\n",
      "68/68 [==============================] - 3s 49ms/step - loss: 0.8401 - accuracy: 0.7257 - val_loss: 1.6197 - val_accuracy: 0.5531\n",
      "Epoch 50/100\n",
      "68/68 [==============================] - 3s 49ms/step - loss: 0.8145 - accuracy: 0.7332 - val_loss: 1.5876 - val_accuracy: 0.5559\n",
      "Epoch 51/100\n",
      "68/68 [==============================] - 3s 49ms/step - loss: 0.7724 - accuracy: 0.7430 - val_loss: 1.5222 - val_accuracy: 0.5718\n",
      "Epoch 52/100\n",
      "68/68 [==============================] - 3s 49ms/step - loss: 0.7885 - accuracy: 0.7505 - val_loss: 1.6705 - val_accuracy: 0.5434\n",
      "Epoch 53/100\n",
      "68/68 [==============================] - 3s 49ms/step - loss: 0.8225 - accuracy: 0.7390 - val_loss: 1.6867 - val_accuracy: 0.5427\n",
      "Epoch 54/100\n",
      "68/68 [==============================] - 3s 50ms/step - loss: 0.7716 - accuracy: 0.7589 - val_loss: 1.6249 - val_accuracy: 0.5559\n",
      "Epoch 55/100\n",
      "68/68 [==============================] - 3s 49ms/step - loss: 0.7689 - accuracy: 0.7544 - val_loss: 1.5903 - val_accuracy: 0.5559\n",
      "Epoch 56/100\n",
      "68/68 [==============================] - 3s 48ms/step - loss: 0.7534 - accuracy: 0.7617 - val_loss: 1.6334 - val_accuracy: 0.5690\n",
      "Epoch 57/100\n",
      "68/68 [==============================] - 3s 50ms/step - loss: 0.7660 - accuracy: 0.7507 - val_loss: 1.5803 - val_accuracy: 0.5767\n",
      "Epoch 58/100\n",
      "68/68 [==============================] - 3s 49ms/step - loss: 0.7212 - accuracy: 0.7609 - val_loss: 1.6090 - val_accuracy: 0.5628\n",
      "Epoch 59/100\n",
      "68/68 [==============================] - 3s 50ms/step - loss: 0.7100 - accuracy: 0.7705 - val_loss: 1.4835 - val_accuracy: 0.5843\n",
      "Epoch 60/100\n",
      "68/68 [==============================] - 3s 50ms/step - loss: 0.6500 - accuracy: 0.7903 - val_loss: 1.5818 - val_accuracy: 0.5697\n",
      "Epoch 61/100\n",
      "68/68 [==============================] - 3s 49ms/step - loss: 0.6512 - accuracy: 0.7839 - val_loss: 1.4511 - val_accuracy: 0.6107\n",
      "Epoch 62/100\n",
      "68/68 [==============================] - 3s 50ms/step - loss: 0.6586 - accuracy: 0.7944 - val_loss: 1.4330 - val_accuracy: 0.6114\n",
      "Epoch 63/100\n",
      "68/68 [==============================] - 3s 51ms/step - loss: 0.6358 - accuracy: 0.7857 - val_loss: 1.4451 - val_accuracy: 0.6031\n",
      "Epoch 64/100\n",
      "68/68 [==============================] - 3s 50ms/step - loss: 0.5997 - accuracy: 0.8001 - val_loss: 1.4242 - val_accuracy: 0.6183\n",
      "Epoch 65/100\n",
      "68/68 [==============================] - 3s 51ms/step - loss: 0.6302 - accuracy: 0.7970 - val_loss: 1.4695 - val_accuracy: 0.6003\n",
      "Epoch 66/100\n",
      "68/68 [==============================] - 4s 52ms/step - loss: 0.6282 - accuracy: 0.7985 - val_loss: 1.4662 - val_accuracy: 0.6003\n",
      "Epoch 67/100\n",
      "68/68 [==============================] - 4s 52ms/step - loss: 0.6173 - accuracy: 0.7959 - val_loss: 1.4947 - val_accuracy: 0.6142\n",
      "Epoch 68/100\n",
      "68/68 [==============================] - 3s 51ms/step - loss: 0.5475 - accuracy: 0.8242 - val_loss: 1.4745 - val_accuracy: 0.6093\n",
      "Epoch 69/100\n",
      "68/68 [==============================] - 4s 52ms/step - loss: 0.6193 - accuracy: 0.7971 - val_loss: 1.4495 - val_accuracy: 0.6149\n",
      "Epoch 70/100\n",
      "68/68 [==============================] - 3s 51ms/step - loss: 0.5794 - accuracy: 0.8109 - val_loss: 1.5088 - val_accuracy: 0.6100\n",
      "Epoch 71/100\n",
      "68/68 [==============================] - 3s 50ms/step - loss: 0.5563 - accuracy: 0.8247 - val_loss: 1.6007 - val_accuracy: 0.5954\n",
      "Epoch 72/100\n",
      "68/68 [==============================] - 3s 50ms/step - loss: 0.5608 - accuracy: 0.8191 - val_loss: 1.5058 - val_accuracy: 0.6176\n",
      "Epoch 73/100\n",
      "68/68 [==============================] - 4s 52ms/step - loss: 0.5155 - accuracy: 0.8311 - val_loss: 1.3813 - val_accuracy: 0.6468\n",
      "Epoch 74/100\n",
      "68/68 [==============================] - 3s 51ms/step - loss: 0.5501 - accuracy: 0.8168 - val_loss: 1.4490 - val_accuracy: 0.6135\n",
      "Epoch 75/100\n",
      "68/68 [==============================] - 3s 51ms/step - loss: 0.5332 - accuracy: 0.8349 - val_loss: 1.4225 - val_accuracy: 0.6378\n",
      "Epoch 76/100\n",
      "68/68 [==============================] - 3s 51ms/step - loss: 0.4814 - accuracy: 0.8542 - val_loss: 1.4284 - val_accuracy: 0.6343\n",
      "Epoch 77/100\n",
      "68/68 [==============================] - 3s 51ms/step - loss: 0.5498 - accuracy: 0.8313 - val_loss: 1.4517 - val_accuracy: 0.6204\n",
      "Epoch 78/100\n",
      "68/68 [==============================] - 4s 55ms/step - loss: 0.4631 - accuracy: 0.8477 - val_loss: 1.4326 - val_accuracy: 0.6482\n",
      "Epoch 79/100\n",
      "68/68 [==============================] - 4s 61ms/step - loss: 0.4631 - accuracy: 0.8534 - val_loss: 1.3491 - val_accuracy: 0.6537\n",
      "Epoch 80/100\n",
      "68/68 [==============================] - 4s 57ms/step - loss: 0.4808 - accuracy: 0.8464 - val_loss: 1.4571 - val_accuracy: 0.6322\n",
      "Epoch 81/100\n",
      "68/68 [==============================] - 4s 55ms/step - loss: 0.5098 - accuracy: 0.8362 - val_loss: 1.3398 - val_accuracy: 0.6301\n",
      "Epoch 82/100\n",
      "68/68 [==============================] - 4s 54ms/step - loss: 0.4821 - accuracy: 0.8462 - val_loss: 1.4140 - val_accuracy: 0.6287\n",
      "Epoch 83/100\n",
      "68/68 [==============================] - 4s 53ms/step - loss: 0.4642 - accuracy: 0.8496 - val_loss: 1.3680 - val_accuracy: 0.6558\n",
      "Epoch 84/100\n",
      "68/68 [==============================] - 4s 53ms/step - loss: 0.4792 - accuracy: 0.8483 - val_loss: 1.4136 - val_accuracy: 0.6357\n",
      "Epoch 85/100\n",
      "68/68 [==============================] - 3s 49ms/step - loss: 0.4344 - accuracy: 0.8634 - val_loss: 1.3679 - val_accuracy: 0.6426\n",
      "Epoch 86/100\n",
      "68/68 [==============================] - 3s 50ms/step - loss: 0.4489 - accuracy: 0.8614 - val_loss: 1.4675 - val_accuracy: 0.6225\n",
      "Epoch 87/100\n",
      "68/68 [==============================] - 3s 51ms/step - loss: 0.4298 - accuracy: 0.8650 - val_loss: 1.3386 - val_accuracy: 0.6711\n",
      "Epoch 88/100\n",
      "68/68 [==============================] - 4s 53ms/step - loss: 0.4275 - accuracy: 0.8607 - val_loss: 1.3498 - val_accuracy: 0.6537\n",
      "Epoch 89/100\n",
      "68/68 [==============================] - 4s 52ms/step - loss: 0.4688 - accuracy: 0.8505 - val_loss: 1.4178 - val_accuracy: 0.6516\n",
      "Epoch 90/100\n",
      "68/68 [==============================] - 3s 51ms/step - loss: 0.4498 - accuracy: 0.8542 - val_loss: 1.4472 - val_accuracy: 0.6433\n",
      "Epoch 91/100\n",
      "68/68 [==============================] - 3s 50ms/step - loss: 0.4571 - accuracy: 0.8542 - val_loss: 1.4069 - val_accuracy: 0.6398\n",
      "Epoch 92/100\n",
      "68/68 [==============================] - 3s 50ms/step - loss: 0.4112 - accuracy: 0.8692 - val_loss: 1.3952 - val_accuracy: 0.6440\n",
      "Epoch 93/100\n",
      "68/68 [==============================] - 4s 53ms/step - loss: 0.4071 - accuracy: 0.8655 - val_loss: 1.3501 - val_accuracy: 0.6530\n",
      "Epoch 94/100\n",
      "68/68 [==============================] - 3s 50ms/step - loss: 0.3959 - accuracy: 0.8797 - val_loss: 1.3828 - val_accuracy: 0.6468\n",
      "Epoch 95/100\n",
      "68/68 [==============================] - 3s 51ms/step - loss: 0.3827 - accuracy: 0.8795 - val_loss: 1.3035 - val_accuracy: 0.6641\n",
      "Epoch 96/100\n",
      "68/68 [==============================] - 4s 54ms/step - loss: 0.3996 - accuracy: 0.8768 - val_loss: 1.3727 - val_accuracy: 0.6530\n",
      "Epoch 97/100\n",
      "68/68 [==============================] - 4s 54ms/step - loss: 0.4024 - accuracy: 0.8677 - val_loss: 1.4126 - val_accuracy: 0.6350\n",
      "Epoch 98/100\n",
      "68/68 [==============================] - 4s 56ms/step - loss: 0.4008 - accuracy: 0.8665 - val_loss: 1.3904 - val_accuracy: 0.6426\n",
      "Epoch 99/100\n",
      "68/68 [==============================] - 4s 55ms/step - loss: 0.4008 - accuracy: 0.8710 - val_loss: 1.3992 - val_accuracy: 0.6593\n",
      "Epoch 100/100\n",
      "68/68 [==============================] - 4s 53ms/step - loss: 0.3734 - accuracy: 0.8800 - val_loss: 1.3611 - val_accuracy: 0.6551\n"
     ]
    },
    {
     "data": {
      "image/png": "[encoded data removed]",
      "text/plain": [
       "<Figure size 432x288 with 1 Axes>"
      ]
     },
     "metadata": {
      "needs_background": "light"
     },
     "output_type": "display_data"
    },
    {
     "data": {
      "image/png": "[encoded data removed]",
      "text/plain": [
       "<Figure size 432x288 with 1 Axes>"
      ]
     },
     "metadata": {
      "needs_background": "light"
     },
     "output_type": "display_data"
    },
    {
     "name": "stdout",
     "output_type": "stream",
     "text": [
      "[[22  0  0 ...  2  0  0]\n",
      " [ 0 24  0 ...  0  1  1]\n",
      " [ 0  0 17 ...  0  0  0]\n",
      " ...\n",
      " [ 1  0  0 ... 12  0  0]\n",
      " [ 0  2  0 ...  0 18  0]\n",
      " [ 0  1  1 ...  0  0 10]]\n",
      "              precision    recall  f1-score   support\n",
      "\n",
      "           0       0.65      0.63      0.64        35\n",
      "           1       0.46      0.73      0.56        33\n",
      "           2       0.85      0.59      0.69        29\n",
      "           3       0.74      0.80      0.77        25\n",
      "           4       0.63      0.67      0.65        36\n",
      "           5       0.46      0.79      0.58        28\n",
      "           6       0.69      0.72      0.71        25\n",
      "           7       0.85      0.92      0.88        24\n",
      "           8       0.84      0.57      0.68        37\n",
      "           9       0.65      0.37      0.47        30\n",
      "          10       0.75      0.68      0.71        56\n",
      "          11       0.47      0.42      0.44        19\n",
      "          12       0.67      0.64      0.65        25\n",
      "          13       0.68      0.76      0.72        34\n",
      "          14       0.84      0.94      0.89        34\n",
      "          15       0.33      0.33      0.33        33\n",
      "          16       0.55      0.61      0.58        28\n",
      "          17       0.68      0.88      0.77        32\n",
      "          18       0.64      0.78      0.70        32\n",
      "          19       0.70      0.56      0.62        25\n",
      "          20       0.65      0.60      0.63        25\n",
      "          21       0.74      0.83      0.78        24\n",
      "          22       0.82      0.39      0.53        23\n",
      "          23       0.47      0.64      0.54        22\n",
      "          24       0.56      0.94      0.70        33\n",
      "          25       0.53      0.57      0.55        28\n",
      "          26       0.83      0.86      0.85        29\n",
      "          27       0.61      0.79      0.69        24\n",
      "          28       0.65      0.61      0.63        18\n",
      "          29       0.82      0.38      0.51        24\n",
      "          30       0.64      0.76      0.70        21\n",
      "          31       0.71      0.52      0.60        23\n",
      "          32       1.00      0.91      0.95        23\n",
      "          33       0.59      0.55      0.57        31\n",
      "          34       0.60      0.81      0.69        26\n",
      "          35       0.81      0.68      0.74        31\n",
      "          36       0.80      0.22      0.35        18\n",
      "          37       0.50      0.44      0.47        27\n",
      "          38       0.67      0.73      0.70        22\n",
      "          39       0.73      0.58      0.65        19\n",
      "          40       0.56      0.65      0.60        23\n",
      "          41       0.73      0.86      0.79        22\n",
      "          42       0.69      0.35      0.47        31\n",
      "          43       0.94      0.52      0.67        29\n",
      "          44       0.50      0.67      0.57        24\n",
      "          45       0.91      0.75      0.82        28\n",
      "          46       0.69      0.45      0.55        20\n",
      "          47       0.87      0.72      0.79        18\n",
      "          48       1.00      0.56      0.72        16\n",
      "          49       0.54      0.62      0.58        24\n",
      "          50       0.89      0.83      0.86        30\n",
      "          51       0.55      0.67      0.60        18\n",
      "          52       0.58      0.82      0.68        22\n",
      "          53       0.42      0.40      0.41        25\n",
      "\n",
      "    accuracy                           0.66      1441\n",
      "   macro avg       0.68      0.65      0.65      1441\n",
      "weighted avg       0.68      0.66      0.65      1441\n",
      "\n",
      "Accuracy: 0.66\n",
      "Cohen's Kappa: 0.65\n"
     ]
    }
   ],
   "source": [
    "test = \"eksperyment5_4\"\n",
    "filters = 128\n",
    "neurons = 128\n",
    "kernel = 2\n",
    "dropout = 0.5\n",
    "window_size = 40\n",
    "\n",
    "(trainSamples, testSamples, trainLabels, testLabels, samples, enc) = prepare_data(prepared_data, window_size)\n",
    "model = build_model(filters, kernel, neurons, dropout) \n",
    "train_model(model, 'Adam')\n",
    "matrix, accuracy = manage_results(model, filters, neurons)\n"
   ]
  },
  {
   "cell_type": "code",
   "execution_count": 52,
   "metadata": {},
   "outputs": [],
   "source": [
    "np.set_printoptions(threshold=1000)\n"
   ]
  },
  {
   "cell_type": "code",
   "execution_count": 54,
   "metadata": {},
   "outputs": [
    {
     "data": {
      "text/plain": [
       "0.6551006245662734"
      ]
     },
     "execution_count": 54,
     "metadata": {},
     "output_type": "execute_result"
    }
   ],
   "source": [
    "accuracy"
   ]
  },
  {
   "cell_type": "markdown",
   "metadata": {},
   "source": [
    "train_model(model, 'Adam')\n",
    "matrix, accuracy = manage_results(model, filters, neurons)"
   ]
  },
  {
   "cell_type": "code",
   "execution_count": 55,
   "metadata": {},
   "outputs": [],
   "source": [
    "cnf_matrix = matrix\n",
    "FP = cnf_matrix.sum(axis=0) - np.diag(cnf_matrix) \n",
    "FN = cnf_matrix.sum(axis=1) - np.diag(cnf_matrix)\n",
    "TP = np.diag(cnf_matrix)\n",
    "TN = cnf_matrix.sum() - (FP + FN + TP)\n",
    "FP = FP.astype(float)\n",
    "FN = FN.astype(float)\n",
    "TP = TP.astype(float)\n",
    "TN = TN.astype(float)\n",
    "# Sensitivity, hit rate, recall, or true positive rate\n",
    "TPR = TP/(TP+FN)\n",
    "# Specificity or true negative rate\n",
    "TNR = TN/(TN+FP) \n",
    "# Precision or positive predictive value\n",
    "PPV = TP/(TP+FP)\n",
    "# Negative predictive value\n",
    "NPV = TN/(TN+FN)\n",
    "# Fall out or false positive rate\n",
    "FPR = FP/(FP+TN)\n",
    "# False negative rate\n",
    "FNR = FN/(TP+FN)\n",
    "# False discovery rate\n",
    "FDR = FP/(TP+FP)\n",
    "# Overall accuracy for each class\n",
    "ACC = (TP+TN)/(TP+FP+FN+TN)\n"
   ]
  },
  {
   "cell_type": "code",
   "execution_count": 56,
   "metadata": {},
   "outputs": [],
   "source": [
    "sumFPR = sum(FPR)/54"
   ]
  },
  {
   "cell_type": "code",
   "execution_count": 57,
   "metadata": {},
   "outputs": [
    {
     "data": {
      "text/plain": [
       "0.0065147120865136"
      ]
     },
     "execution_count": 57,
     "metadata": {},
     "output_type": "execute_result"
    }
   ],
   "source": [
    "sumFPR"
   ]
  },
  {
   "cell_type": "code",
   "execution_count": 58,
   "metadata": {},
   "outputs": [],
   "source": [
    "sumFNR = sum(FNR)/54"
   ]
  },
  {
   "cell_type": "code",
   "execution_count": 59,
   "metadata": {},
   "outputs": [
    {
     "data": {
      "text/plain": [
       "0.35065240655758445"
      ]
     },
     "execution_count": 59,
     "metadata": {},
     "output_type": "execute_result"
    }
   ],
   "source": [
    "sumFNR"
   ]
  },
  {
   "cell_type": "code",
   "execution_count": 66,
   "metadata": {},
   "outputs": [
    {
     "data": {
      "text/plain": [
       "(54,)"
      ]
     },
     "execution_count": 66,
     "metadata": {},
     "output_type": "execute_result"
    }
   ],
   "source": [
    "ACC.shape"
   ]
  },
  {
   "cell_type": "code",
   "execution_count": 61,
   "metadata": {},
   "outputs": [],
   "source": [
    "EER = (sumFPR + sumFNR)/2"
   ]
  },
  {
   "cell_type": "code",
   "execution_count": 62,
   "metadata": {},
   "outputs": [
    {
     "data": {
      "text/plain": [
       "0.17858355932204903"
      ]
     },
     "execution_count": 62,
     "metadata": {},
     "output_type": "execute_result"
    }
   ],
   "source": [
    "EER"
   ]
  },
  {
   "cell_type": "code",
   "execution_count": 63,
   "metadata": {},
   "outputs": [
    {
     "data": {
      "text/plain": [
       "array([0.37142857, 0.27272727, 0.4137931 , 0.2       , 0.33333333,\n",
       "       0.21428571, 0.28      , 0.08333333, 0.43243243, 0.63333333,\n",
       "       0.32142857, 0.57894737, 0.36      , 0.23529412, 0.05882353,\n",
       "       0.66666667, 0.39285714, 0.125     , 0.21875   , 0.44      ,\n",
       "       0.4       , 0.16666667, 0.60869565, 0.36363636, 0.06060606,\n",
       "       0.42857143, 0.13793103, 0.20833333, 0.38888889, 0.625     ,\n",
       "       0.23809524, 0.47826087, 0.08695652, 0.4516129 , 0.19230769,\n",
       "       0.32258065, 0.77777778, 0.55555556, 0.27272727, 0.42105263,\n",
       "       0.34782609, 0.13636364, 0.64516129, 0.48275862, 0.33333333,\n",
       "       0.25      , 0.55      , 0.27777778, 0.4375    , 0.375     ,\n",
       "       0.16666667, 0.33333333, 0.18181818, 0.6       ])"
      ]
     },
     "execution_count": 63,
     "metadata": {},
     "output_type": "execute_result"
    }
   ],
   "source": [
    "FNR"
   ]
  },
  {
   "cell_type": "code",
   "execution_count": null,
   "metadata": {},
   "outputs": [],
   "source": []
  }
 ],
 "metadata": {
  "accelerator": "GPU",
  "colab": {
   "collapsed_sections": [],
   "name": "timedistributed.ipynb",
   "provenance": []
  },
  "kernelspec": {
   "display_name": "Python 3",
   "language": "python",
   "name": "python3"
  },
  "language_info": {
   "codemirror_mode": {
    "name": "ipython",
    "version": 3
   },
   "file_extension": ".py",
   "mimetype": "text/x-python",
   "name": "python",
   "nbconvert_exporter": "python",
   "pygments_lexer": "ipython3",
   "version": "3.8.5"
  }
 },
 "nbformat": 4,
 "nbformat_minor": 4
}
